{
 "cells": [
  {
   "cell_type": "markdown",
   "id": "2d358841",
   "metadata": {},
   "source": [
    "# Algorithm training, testing, validation, and experiment tracking"
   ]
  },
  {
   "cell_type": "code",
   "execution_count": 1,
   "id": "0e0dab72",
   "metadata": {},
   "outputs": [],
   "source": [
    "# Import libraries\n",
    "import numpy as np\n",
    "import pandas as pd\n",
    "import seaborn as sns\n",
    "import matplotlib.pyplot as plt\n",
    "sns.set() # Revert to matplotlib defaults\n",
    "plt.rcParams['figure.figsize'] = (16, 12)"
   ]
  },
  {
   "cell_type": "code",
   "execution_count": 2,
   "id": "b44d01a4",
   "metadata": {},
   "outputs": [
    {
     "data": {
      "text/html": [
       "<div>\n",
       "<style scoped>\n",
       "    .dataframe tbody tr th:only-of-type {\n",
       "        vertical-align: middle;\n",
       "    }\n",
       "\n",
       "    .dataframe tbody tr th {\n",
       "        vertical-align: top;\n",
       "    }\n",
       "\n",
       "    .dataframe thead th {\n",
       "        text-align: right;\n",
       "    }\n",
       "</style>\n",
       "<table border=\"1\" class=\"dataframe\">\n",
       "  <thead>\n",
       "    <tr style=\"text-align: right;\">\n",
       "      <th></th>\n",
       "      <th>Unnamed: 0</th>\n",
       "      <th>MonthPE</th>\n",
       "      <th>Date</th>\n",
       "      <th>Daily_Temp</th>\n",
       "      <th>Daily_Precip</th>\n",
       "      <th>Daily_Humidity</th>\n",
       "      <th>Daily_Pressure</th>\n",
       "      <th>Daily_WindDir</th>\n",
       "      <th>Daily_WindSpeed</th>\n",
       "      <th>Daily_DNI</th>\n",
       "      <th>Daily_GHI</th>\n",
       "      <th>Daily_radiation</th>\n",
       "    </tr>\n",
       "  </thead>\n",
       "  <tbody>\n",
       "    <tr>\n",
       "      <th>0</th>\n",
       "      <td>2018-12-31</td>\n",
       "      <td>12</td>\n",
       "      <td>2018-12-31</td>\n",
       "      <td>10.980000</td>\n",
       "      <td>9.070000</td>\n",
       "      <td>59.2</td>\n",
       "      <td>929.060000</td>\n",
       "      <td>167.300000</td>\n",
       "      <td>1.860000</td>\n",
       "      <td>522.2</td>\n",
       "      <td>324.600000</td>\n",
       "      <td>96.200000</td>\n",
       "    </tr>\n",
       "    <tr>\n",
       "      <th>1</th>\n",
       "      <td>2019-01-01</td>\n",
       "      <td>1</td>\n",
       "      <td>2019-01-01</td>\n",
       "      <td>10.570000</td>\n",
       "      <td>14.420000</td>\n",
       "      <td>62.5</td>\n",
       "      <td>925.930000</td>\n",
       "      <td>84.800000</td>\n",
       "      <td>1.520000</td>\n",
       "      <td>1.1</td>\n",
       "      <td>96.300000</td>\n",
       "      <td>96.200000</td>\n",
       "    </tr>\n",
       "    <tr>\n",
       "      <th>2</th>\n",
       "      <td>2019-01-02</td>\n",
       "      <td>1</td>\n",
       "      <td>2019-01-02</td>\n",
       "      <td>8.410000</td>\n",
       "      <td>14.450000</td>\n",
       "      <td>91.4</td>\n",
       "      <td>927.230000</td>\n",
       "      <td>109.400000</td>\n",
       "      <td>1.640000</td>\n",
       "      <td>275.8</td>\n",
       "      <td>259.500000</td>\n",
       "      <td>146.100000</td>\n",
       "    </tr>\n",
       "    <tr>\n",
       "      <th>3</th>\n",
       "      <td>2019-01-03</td>\n",
       "      <td>1</td>\n",
       "      <td>2019-01-03</td>\n",
       "      <td>9.318182</td>\n",
       "      <td>7.427273</td>\n",
       "      <td>70.0</td>\n",
       "      <td>928.790909</td>\n",
       "      <td>167.363636</td>\n",
       "      <td>1.736364</td>\n",
       "      <td>471.0</td>\n",
       "      <td>294.363636</td>\n",
       "      <td>88.272727</td>\n",
       "    </tr>\n",
       "    <tr>\n",
       "      <th>4</th>\n",
       "      <td>2019-01-04</td>\n",
       "      <td>1</td>\n",
       "      <td>2019-01-04</td>\n",
       "      <td>7.530000</td>\n",
       "      <td>13.650000</td>\n",
       "      <td>69.0</td>\n",
       "      <td>926.660000</td>\n",
       "      <td>31.700000</td>\n",
       "      <td>2.610000</td>\n",
       "      <td>9.1</td>\n",
       "      <td>96.700000</td>\n",
       "      <td>92.300000</td>\n",
       "    </tr>\n",
       "  </tbody>\n",
       "</table>\n",
       "</div>"
      ],
      "text/plain": [
       "   Unnamed: 0  MonthPE        Date  Daily_Temp  Daily_Precip  Daily_Humidity  \\\n",
       "0  2018-12-31       12  2018-12-31   10.980000      9.070000            59.2   \n",
       "1  2019-01-01        1  2019-01-01   10.570000     14.420000            62.5   \n",
       "2  2019-01-02        1  2019-01-02    8.410000     14.450000            91.4   \n",
       "3  2019-01-03        1  2019-01-03    9.318182      7.427273            70.0   \n",
       "4  2019-01-04        1  2019-01-04    7.530000     13.650000            69.0   \n",
       "\n",
       "   Daily_Pressure  Daily_WindDir  Daily_WindSpeed  Daily_DNI   Daily_GHI  \\\n",
       "0      929.060000     167.300000         1.860000      522.2  324.600000   \n",
       "1      925.930000      84.800000         1.520000        1.1   96.300000   \n",
       "2      927.230000     109.400000         1.640000      275.8  259.500000   \n",
       "3      928.790909     167.363636         1.736364      471.0  294.363636   \n",
       "4      926.660000      31.700000         2.610000        9.1   96.700000   \n",
       "\n",
       "   Daily_radiation  \n",
       "0        96.200000  \n",
       "1        96.200000  \n",
       "2       146.100000  \n",
       "3        88.272727  \n",
       "4        92.300000  "
      ]
     },
     "execution_count": 2,
     "metadata": {},
     "output_type": "execute_result"
    }
   ],
   "source": [
    "# Load preprocessed dataset\n",
    "cleaned_df = pd.read_csv('../datasets/prepared/cleaned_solar_irradiation.csv')\n",
    "cleaned_df.head()"
   ]
  },
  {
   "cell_type": "code",
   "execution_count": 3,
   "id": "a0b42a7c",
   "metadata": {},
   "outputs": [
    {
     "data": {
      "text/plain": [
       "Index(['Unnamed: 0', 'MonthPE', 'Date', 'Daily_Temp', 'Daily_Precip',\n",
       "       'Daily_Humidity', 'Daily_Pressure', 'Daily_WindDir', 'Daily_WindSpeed',\n",
       "       'Daily_DNI', 'Daily_GHI', 'Daily_radiation'],\n",
       "      dtype='object')"
      ]
     },
     "execution_count": 3,
     "metadata": {},
     "output_type": "execute_result"
    }
   ],
   "source": [
    "# Display column names\n",
    "cleaned_df.columns"
   ]
  },
  {
   "cell_type": "code",
   "execution_count": 4,
   "id": "7f842c25",
   "metadata": {},
   "outputs": [],
   "source": [
    "# Select useful features\n",
    "cleaned_df= cleaned_df[['MonthPE', 'Date', 'Daily_Temp', 'Daily_Precip', 'Daily_Humidity', 'Daily_Pressure',\n",
    "                        'Daily_WindDir', 'Daily_WindSpeed', 'Daily_DNI', 'Daily_GHI', 'Daily_radiation']]"
   ]
  },
  {
   "cell_type": "code",
   "execution_count": 5,
   "id": "edb96b83",
   "metadata": {},
   "outputs": [],
   "source": [
    "# Feature engineering of time series column (Date)\n",
    "cleaned_df['Date'] = pd.to_datetime(cleaned_df['Date'], format='%Y-%m-%d')\n",
    "cleaned_df['year'] = cleaned_df['Date'].dt.year\n",
    "cleaned_df['month'] = cleaned_df['Date'].dt.month\n",
    "cleaned_df['day'] = cleaned_df['Date'].dt.day"
   ]
  },
  {
   "cell_type": "code",
   "execution_count": 6,
   "id": "120dfa33",
   "metadata": {},
   "outputs": [
    {
     "data": {
      "text/html": [
       "<div>\n",
       "<style scoped>\n",
       "    .dataframe tbody tr th:only-of-type {\n",
       "        vertical-align: middle;\n",
       "    }\n",
       "\n",
       "    .dataframe tbody tr th {\n",
       "        vertical-align: top;\n",
       "    }\n",
       "\n",
       "    .dataframe thead th {\n",
       "        text-align: right;\n",
       "    }\n",
       "</style>\n",
       "<table border=\"1\" class=\"dataframe\">\n",
       "  <thead>\n",
       "    <tr style=\"text-align: right;\">\n",
       "      <th></th>\n",
       "      <th>MonthPE</th>\n",
       "      <th>Date</th>\n",
       "      <th>Daily_Temp</th>\n",
       "      <th>Daily_Precip</th>\n",
       "      <th>Daily_Humidity</th>\n",
       "      <th>Daily_Pressure</th>\n",
       "      <th>Daily_WindDir</th>\n",
       "      <th>Daily_WindSpeed</th>\n",
       "      <th>Daily_DNI</th>\n",
       "      <th>Daily_GHI</th>\n",
       "      <th>Daily_radiation</th>\n",
       "      <th>year</th>\n",
       "      <th>month</th>\n",
       "      <th>day</th>\n",
       "    </tr>\n",
       "  </thead>\n",
       "  <tbody>\n",
       "    <tr>\n",
       "      <th>0</th>\n",
       "      <td>12</td>\n",
       "      <td>2018-12-31</td>\n",
       "      <td>10.980000</td>\n",
       "      <td>9.070000</td>\n",
       "      <td>59.2</td>\n",
       "      <td>929.060000</td>\n",
       "      <td>167.300000</td>\n",
       "      <td>1.860000</td>\n",
       "      <td>522.2</td>\n",
       "      <td>324.600000</td>\n",
       "      <td>96.200000</td>\n",
       "      <td>2018</td>\n",
       "      <td>12</td>\n",
       "      <td>31</td>\n",
       "    </tr>\n",
       "    <tr>\n",
       "      <th>1</th>\n",
       "      <td>1</td>\n",
       "      <td>2019-01-01</td>\n",
       "      <td>10.570000</td>\n",
       "      <td>14.420000</td>\n",
       "      <td>62.5</td>\n",
       "      <td>925.930000</td>\n",
       "      <td>84.800000</td>\n",
       "      <td>1.520000</td>\n",
       "      <td>1.1</td>\n",
       "      <td>96.300000</td>\n",
       "      <td>96.200000</td>\n",
       "      <td>2019</td>\n",
       "      <td>1</td>\n",
       "      <td>1</td>\n",
       "    </tr>\n",
       "    <tr>\n",
       "      <th>2</th>\n",
       "      <td>1</td>\n",
       "      <td>2019-01-02</td>\n",
       "      <td>8.410000</td>\n",
       "      <td>14.450000</td>\n",
       "      <td>91.4</td>\n",
       "      <td>927.230000</td>\n",
       "      <td>109.400000</td>\n",
       "      <td>1.640000</td>\n",
       "      <td>275.8</td>\n",
       "      <td>259.500000</td>\n",
       "      <td>146.100000</td>\n",
       "      <td>2019</td>\n",
       "      <td>1</td>\n",
       "      <td>2</td>\n",
       "    </tr>\n",
       "    <tr>\n",
       "      <th>3</th>\n",
       "      <td>1</td>\n",
       "      <td>2019-01-03</td>\n",
       "      <td>9.318182</td>\n",
       "      <td>7.427273</td>\n",
       "      <td>70.0</td>\n",
       "      <td>928.790909</td>\n",
       "      <td>167.363636</td>\n",
       "      <td>1.736364</td>\n",
       "      <td>471.0</td>\n",
       "      <td>294.363636</td>\n",
       "      <td>88.272727</td>\n",
       "      <td>2019</td>\n",
       "      <td>1</td>\n",
       "      <td>3</td>\n",
       "    </tr>\n",
       "    <tr>\n",
       "      <th>4</th>\n",
       "      <td>1</td>\n",
       "      <td>2019-01-04</td>\n",
       "      <td>7.530000</td>\n",
       "      <td>13.650000</td>\n",
       "      <td>69.0</td>\n",
       "      <td>926.660000</td>\n",
       "      <td>31.700000</td>\n",
       "      <td>2.610000</td>\n",
       "      <td>9.1</td>\n",
       "      <td>96.700000</td>\n",
       "      <td>92.300000</td>\n",
       "      <td>2019</td>\n",
       "      <td>1</td>\n",
       "      <td>4</td>\n",
       "    </tr>\n",
       "  </tbody>\n",
       "</table>\n",
       "</div>"
      ],
      "text/plain": [
       "   MonthPE       Date  Daily_Temp  Daily_Precip  Daily_Humidity  \\\n",
       "0       12 2018-12-31   10.980000      9.070000            59.2   \n",
       "1        1 2019-01-01   10.570000     14.420000            62.5   \n",
       "2        1 2019-01-02    8.410000     14.450000            91.4   \n",
       "3        1 2019-01-03    9.318182      7.427273            70.0   \n",
       "4        1 2019-01-04    7.530000     13.650000            69.0   \n",
       "\n",
       "   Daily_Pressure  Daily_WindDir  Daily_WindSpeed  Daily_DNI   Daily_GHI  \\\n",
       "0      929.060000     167.300000         1.860000      522.2  324.600000   \n",
       "1      925.930000      84.800000         1.520000        1.1   96.300000   \n",
       "2      927.230000     109.400000         1.640000      275.8  259.500000   \n",
       "3      928.790909     167.363636         1.736364      471.0  294.363636   \n",
       "4      926.660000      31.700000         2.610000        9.1   96.700000   \n",
       "\n",
       "   Daily_radiation  year  month  day  \n",
       "0        96.200000  2018     12   31  \n",
       "1        96.200000  2019      1    1  \n",
       "2       146.100000  2019      1    2  \n",
       "3        88.272727  2019      1    3  \n",
       "4        92.300000  2019      1    4  "
      ]
     },
     "execution_count": 6,
     "metadata": {},
     "output_type": "execute_result"
    }
   ],
   "source": [
    "cleaned_df.head()"
   ]
  },
  {
   "cell_type": "code",
   "execution_count": 7,
   "id": "5946c3ac",
   "metadata": {},
   "outputs": [
    {
     "data": {
      "text/html": [
       "<div>\n",
       "<style scoped>\n",
       "    .dataframe tbody tr th:only-of-type {\n",
       "        vertical-align: middle;\n",
       "    }\n",
       "\n",
       "    .dataframe tbody tr th {\n",
       "        vertical-align: top;\n",
       "    }\n",
       "\n",
       "    .dataframe thead th {\n",
       "        text-align: right;\n",
       "    }\n",
       "</style>\n",
       "<table border=\"1\" class=\"dataframe\">\n",
       "  <thead>\n",
       "    <tr style=\"text-align: right;\">\n",
       "      <th></th>\n",
       "      <th>month</th>\n",
       "      <th>day</th>\n",
       "      <th>Daily_Temp</th>\n",
       "      <th>Daily_Precip</th>\n",
       "      <th>Daily_Humidity</th>\n",
       "      <th>Daily_Pressure</th>\n",
       "      <th>Daily_WindDir</th>\n",
       "      <th>Daily_WindSpeed</th>\n",
       "      <th>Daily_DNI</th>\n",
       "      <th>Daily_GHI</th>\n",
       "      <th>Daily_radiation</th>\n",
       "    </tr>\n",
       "  </thead>\n",
       "  <tbody>\n",
       "    <tr>\n",
       "      <th>0</th>\n",
       "      <td>12</td>\n",
       "      <td>31</td>\n",
       "      <td>10.980000</td>\n",
       "      <td>9.070000</td>\n",
       "      <td>59.2</td>\n",
       "      <td>929.060000</td>\n",
       "      <td>167.300000</td>\n",
       "      <td>1.860000</td>\n",
       "      <td>522.2</td>\n",
       "      <td>324.600000</td>\n",
       "      <td>96.200000</td>\n",
       "    </tr>\n",
       "    <tr>\n",
       "      <th>1</th>\n",
       "      <td>1</td>\n",
       "      <td>1</td>\n",
       "      <td>10.570000</td>\n",
       "      <td>14.420000</td>\n",
       "      <td>62.5</td>\n",
       "      <td>925.930000</td>\n",
       "      <td>84.800000</td>\n",
       "      <td>1.520000</td>\n",
       "      <td>1.1</td>\n",
       "      <td>96.300000</td>\n",
       "      <td>96.200000</td>\n",
       "    </tr>\n",
       "    <tr>\n",
       "      <th>2</th>\n",
       "      <td>1</td>\n",
       "      <td>2</td>\n",
       "      <td>8.410000</td>\n",
       "      <td>14.450000</td>\n",
       "      <td>91.4</td>\n",
       "      <td>927.230000</td>\n",
       "      <td>109.400000</td>\n",
       "      <td>1.640000</td>\n",
       "      <td>275.8</td>\n",
       "      <td>259.500000</td>\n",
       "      <td>146.100000</td>\n",
       "    </tr>\n",
       "    <tr>\n",
       "      <th>3</th>\n",
       "      <td>1</td>\n",
       "      <td>3</td>\n",
       "      <td>9.318182</td>\n",
       "      <td>7.427273</td>\n",
       "      <td>70.0</td>\n",
       "      <td>928.790909</td>\n",
       "      <td>167.363636</td>\n",
       "      <td>1.736364</td>\n",
       "      <td>471.0</td>\n",
       "      <td>294.363636</td>\n",
       "      <td>88.272727</td>\n",
       "    </tr>\n",
       "    <tr>\n",
       "      <th>4</th>\n",
       "      <td>1</td>\n",
       "      <td>4</td>\n",
       "      <td>7.530000</td>\n",
       "      <td>13.650000</td>\n",
       "      <td>69.0</td>\n",
       "      <td>926.660000</td>\n",
       "      <td>31.700000</td>\n",
       "      <td>2.610000</td>\n",
       "      <td>9.1</td>\n",
       "      <td>96.700000</td>\n",
       "      <td>92.300000</td>\n",
       "    </tr>\n",
       "  </tbody>\n",
       "</table>\n",
       "</div>"
      ],
      "text/plain": [
       "   month  day  Daily_Temp  Daily_Precip  Daily_Humidity  Daily_Pressure  \\\n",
       "0     12   31   10.980000      9.070000            59.2      929.060000   \n",
       "1      1    1   10.570000     14.420000            62.5      925.930000   \n",
       "2      1    2    8.410000     14.450000            91.4      927.230000   \n",
       "3      1    3    9.318182      7.427273            70.0      928.790909   \n",
       "4      1    4    7.530000     13.650000            69.0      926.660000   \n",
       "\n",
       "   Daily_WindDir  Daily_WindSpeed  Daily_DNI   Daily_GHI  Daily_radiation  \n",
       "0     167.300000         1.860000      522.2  324.600000        96.200000  \n",
       "1      84.800000         1.520000        1.1   96.300000        96.200000  \n",
       "2     109.400000         1.640000      275.8  259.500000       146.100000  \n",
       "3     167.363636         1.736364      471.0  294.363636        88.272727  \n",
       "4      31.700000         2.610000        9.1   96.700000        92.300000  "
      ]
     },
     "execution_count": 7,
     "metadata": {},
     "output_type": "execute_result"
    }
   ],
   "source": [
    "# Select useful features\n",
    "cleaned_df = cleaned_df[['month', 'day', 'Daily_Temp', 'Daily_Precip', 'Daily_Humidity',\n",
    "       'Daily_Pressure', 'Daily_WindDir', 'Daily_WindSpeed', 'Daily_DNI',\n",
    "       'Daily_GHI', 'Daily_radiation']]\n",
    "cleaned_df.head()"
   ]
  },
  {
   "cell_type": "code",
   "execution_count": 8,
   "id": "faea99e0",
   "metadata": {},
   "outputs": [
    {
     "data": {
      "text/plain": [
       "(1090, 11)"
      ]
     },
     "execution_count": 8,
     "metadata": {},
     "output_type": "execute_result"
    }
   ],
   "source": [
    "# Check the number of rows and columns\n",
    "cleaned_df.shape"
   ]
  },
  {
   "cell_type": "markdown",
   "id": "b1db7f3f",
   "metadata": {},
   "source": [
    "## Model training and testing"
   ]
  },
  {
   "cell_type": "code",
   "execution_count": 9,
   "id": "dbd7278e",
   "metadata": {},
   "outputs": [],
   "source": [
    "# Import libraries for algorithms training, and metrics to evaluate performance\n",
    "from sklearn.pipeline import Pipeline\n",
    "from sklearn.preprocessing import StandardScaler\n",
    "from sklearn.linear_model import LinearRegression\n",
    "from sklearn.ensemble import RandomForestRegressor\n",
    "from sklearn.ensemble import GradientBoostingRegressor\n",
    "from sklearn.model_selection import train_test_split\n",
    "from sklearn.metrics import mean_squared_error, mean_absolute_error, r2_score"
   ]
  },
  {
   "cell_type": "code",
   "execution_count": 10,
   "id": "82c495bb",
   "metadata": {},
   "outputs": [],
   "source": [
    "# Split data into 70%, 15%, 15% for training, validation and test sets respectively\n",
    "train_data, validation_data, test_data = np.split(cleaned_df.sample(frac=1, random_state=42),\n",
    "                                                 [int(.7*len(cleaned_df)), int(.85*len(cleaned_df))]) # shuffle the whole data and then split it into three datasets"
   ]
  },
  {
   "cell_type": "code",
   "execution_count": 11,
   "id": "a9b1285d",
   "metadata": {},
   "outputs": [
    {
     "data": {
      "text/plain": [
       "((763, 11), (163, 11), (164, 11))"
      ]
     },
     "execution_count": 11,
     "metadata": {},
     "output_type": "execute_result"
    }
   ],
   "source": [
    "# Check the shape of all three datasets\n",
    "train_data.shape, validation_data.shape, test_data.shape"
   ]
  },
  {
   "cell_type": "code",
   "execution_count": 12,
   "id": "860435c6",
   "metadata": {},
   "outputs": [],
   "source": [
    "# Save them into csv files\n",
    "train_data.to_csv('../datasets/prepared/train.csv', index=False)\n",
    "validation_data.to_csv('../datasets/prepared/validation.csv', index=False)\n",
    "test_data.to_csv('../datasets/prepared/test.csv', index=False)"
   ]
  },
  {
   "cell_type": "code",
   "execution_count": 13,
   "id": "3a5593f3",
   "metadata": {},
   "outputs": [
    {
     "data": {
      "text/html": [
       "<div>\n",
       "<style scoped>\n",
       "    .dataframe tbody tr th:only-of-type {\n",
       "        vertical-align: middle;\n",
       "    }\n",
       "\n",
       "    .dataframe tbody tr th {\n",
       "        vertical-align: top;\n",
       "    }\n",
       "\n",
       "    .dataframe thead th {\n",
       "        text-align: right;\n",
       "    }\n",
       "</style>\n",
       "<table border=\"1\" class=\"dataframe\">\n",
       "  <thead>\n",
       "    <tr style=\"text-align: right;\">\n",
       "      <th></th>\n",
       "      <th>month</th>\n",
       "      <th>day</th>\n",
       "      <th>Daily_Temp</th>\n",
       "      <th>Daily_Precip</th>\n",
       "      <th>Daily_Humidity</th>\n",
       "      <th>Daily_Pressure</th>\n",
       "      <th>Daily_WindDir</th>\n",
       "      <th>Daily_WindSpeed</th>\n",
       "      <th>Daily_DNI</th>\n",
       "      <th>Daily_GHI</th>\n",
       "    </tr>\n",
       "  </thead>\n",
       "  <tbody>\n",
       "    <tr>\n",
       "      <th>0</th>\n",
       "      <td>4</td>\n",
       "      <td>13</td>\n",
       "      <td>26.930769</td>\n",
       "      <td>20.869231</td>\n",
       "      <td>27.384615</td>\n",
       "      <td>936.746154</td>\n",
       "      <td>310.538462</td>\n",
       "      <td>2.723077</td>\n",
       "      <td>278.538462</td>\n",
       "      <td>398.076923</td>\n",
       "    </tr>\n",
       "    <tr>\n",
       "      <th>1</th>\n",
       "      <td>7</td>\n",
       "      <td>28</td>\n",
       "      <td>26.353846</td>\n",
       "      <td>65.623077</td>\n",
       "      <td>84.153846</td>\n",
       "      <td>921.984615</td>\n",
       "      <td>117.615385</td>\n",
       "      <td>4.876923</td>\n",
       "      <td>0.076923</td>\n",
       "      <td>113.307692</td>\n",
       "    </tr>\n",
       "    <tr>\n",
       "      <th>2</th>\n",
       "      <td>12</td>\n",
       "      <td>19</td>\n",
       "      <td>12.630000</td>\n",
       "      <td>3.700000</td>\n",
       "      <td>18.200000</td>\n",
       "      <td>942.500000</td>\n",
       "      <td>227.300000</td>\n",
       "      <td>1.740000</td>\n",
       "      <td>473.000000</td>\n",
       "      <td>318.200000</td>\n",
       "    </tr>\n",
       "    <tr>\n",
       "      <th>3</th>\n",
       "      <td>10</td>\n",
       "      <td>1</td>\n",
       "      <td>29.433333</td>\n",
       "      <td>41.466667</td>\n",
       "      <td>51.500000</td>\n",
       "      <td>934.358333</td>\n",
       "      <td>163.083333</td>\n",
       "      <td>1.500000</td>\n",
       "      <td>14.166667</td>\n",
       "      <td>176.500000</td>\n",
       "    </tr>\n",
       "    <tr>\n",
       "      <th>4</th>\n",
       "      <td>1</td>\n",
       "      <td>29</td>\n",
       "      <td>14.218182</td>\n",
       "      <td>4.745455</td>\n",
       "      <td>22.363636</td>\n",
       "      <td>941.772727</td>\n",
       "      <td>268.363636</td>\n",
       "      <td>2.000000</td>\n",
       "      <td>629.000000</td>\n",
       "      <td>377.454545</td>\n",
       "    </tr>\n",
       "    <tr>\n",
       "      <th>...</th>\n",
       "      <td>...</td>\n",
       "      <td>...</td>\n",
       "      <td>...</td>\n",
       "      <td>...</td>\n",
       "      <td>...</td>\n",
       "      <td>...</td>\n",
       "      <td>...</td>\n",
       "      <td>...</td>\n",
       "      <td>...</td>\n",
       "      <td>...</td>\n",
       "    </tr>\n",
       "    <tr>\n",
       "      <th>758</th>\n",
       "      <td>4</td>\n",
       "      <td>25</td>\n",
       "      <td>26.964286</td>\n",
       "      <td>10.171429</td>\n",
       "      <td>20.571429</td>\n",
       "      <td>935.835714</td>\n",
       "      <td>195.357143</td>\n",
       "      <td>1.964286</td>\n",
       "      <td>639.928571</td>\n",
       "      <td>545.785714</td>\n",
       "    </tr>\n",
       "    <tr>\n",
       "      <th>759</th>\n",
       "      <td>7</td>\n",
       "      <td>13</td>\n",
       "      <td>31.446667</td>\n",
       "      <td>45.706667</td>\n",
       "      <td>55.333333</td>\n",
       "      <td>923.513333</td>\n",
       "      <td>131.066667</td>\n",
       "      <td>3.620000</td>\n",
       "      <td>38.066667</td>\n",
       "      <td>257.333333</td>\n",
       "    </tr>\n",
       "    <tr>\n",
       "      <th>760</th>\n",
       "      <td>9</td>\n",
       "      <td>18</td>\n",
       "      <td>29.292308</td>\n",
       "      <td>36.438462</td>\n",
       "      <td>55.461538</td>\n",
       "      <td>932.215385</td>\n",
       "      <td>215.307692</td>\n",
       "      <td>1.830769</td>\n",
       "      <td>105.923077</td>\n",
       "      <td>300.538462</td>\n",
       "    </tr>\n",
       "    <tr>\n",
       "      <th>761</th>\n",
       "      <td>9</td>\n",
       "      <td>28</td>\n",
       "      <td>30.291667</td>\n",
       "      <td>34.416667</td>\n",
       "      <td>46.000000</td>\n",
       "      <td>933.675000</td>\n",
       "      <td>199.416667</td>\n",
       "      <td>1.633333</td>\n",
       "      <td>287.333333</td>\n",
       "      <td>393.333333</td>\n",
       "    </tr>\n",
       "    <tr>\n",
       "      <th>762</th>\n",
       "      <td>5</td>\n",
       "      <td>17</td>\n",
       "      <td>29.507143</td>\n",
       "      <td>17.578571</td>\n",
       "      <td>25.357143</td>\n",
       "      <td>930.850000</td>\n",
       "      <td>308.142857</td>\n",
       "      <td>2.764286</td>\n",
       "      <td>501.285714</td>\n",
       "      <td>520.000000</td>\n",
       "    </tr>\n",
       "  </tbody>\n",
       "</table>\n",
       "<p>763 rows × 10 columns</p>\n",
       "</div>"
      ],
      "text/plain": [
       "     month  day  Daily_Temp  Daily_Precip  Daily_Humidity  Daily_Pressure  \\\n",
       "0        4   13   26.930769     20.869231       27.384615      936.746154   \n",
       "1        7   28   26.353846     65.623077       84.153846      921.984615   \n",
       "2       12   19   12.630000      3.700000       18.200000      942.500000   \n",
       "3       10    1   29.433333     41.466667       51.500000      934.358333   \n",
       "4        1   29   14.218182      4.745455       22.363636      941.772727   \n",
       "..     ...  ...         ...           ...             ...             ...   \n",
       "758      4   25   26.964286     10.171429       20.571429      935.835714   \n",
       "759      7   13   31.446667     45.706667       55.333333      923.513333   \n",
       "760      9   18   29.292308     36.438462       55.461538      932.215385   \n",
       "761      9   28   30.291667     34.416667       46.000000      933.675000   \n",
       "762      5   17   29.507143     17.578571       25.357143      930.850000   \n",
       "\n",
       "     Daily_WindDir  Daily_WindSpeed   Daily_DNI   Daily_GHI  \n",
       "0       310.538462         2.723077  278.538462  398.076923  \n",
       "1       117.615385         4.876923    0.076923  113.307692  \n",
       "2       227.300000         1.740000  473.000000  318.200000  \n",
       "3       163.083333         1.500000   14.166667  176.500000  \n",
       "4       268.363636         2.000000  629.000000  377.454545  \n",
       "..             ...              ...         ...         ...  \n",
       "758     195.357143         1.964286  639.928571  545.785714  \n",
       "759     131.066667         3.620000   38.066667  257.333333  \n",
       "760     215.307692         1.830769  105.923077  300.538462  \n",
       "761     199.416667         1.633333  287.333333  393.333333  \n",
       "762     308.142857         2.764286  501.285714  520.000000  \n",
       "\n",
       "[763 rows x 10 columns]"
      ]
     },
     "execution_count": 13,
     "metadata": {},
     "output_type": "execute_result"
    }
   ],
   "source": [
    "# Split training dataset into input and output\n",
    "train_df = pd.read_csv('../datasets/prepared/train.csv')\n",
    "X_train = train_df.drop(['Daily_radiation'], axis=1)\n",
    "y_train = train_df['Daily_radiation']\n",
    "\n",
    "# Check training inputs\n",
    "X_train"
   ]
  },
  {
   "cell_type": "code",
   "execution_count": 14,
   "id": "bc071298",
   "metadata": {},
   "outputs": [
    {
     "data": {
      "text/plain": [
       "0      178.307692\n",
       "1      113.307692\n",
       "2      118.800000\n",
       "3      168.333333\n",
       "4       86.818182\n",
       "          ...    \n",
       "758     98.142857\n",
       "759    228.866667\n",
       "760    241.769231\n",
       "761    195.333333\n",
       "762    113.142857\n",
       "Name: Daily_radiation, Length: 763, dtype: float64"
      ]
     },
     "execution_count": 14,
     "metadata": {},
     "output_type": "execute_result"
    }
   ],
   "source": [
    "# Check training outputs\n",
    "y_train"
   ]
  },
  {
   "cell_type": "code",
   "execution_count": 15,
   "id": "3af1c5c7",
   "metadata": {},
   "outputs": [
    {
     "data": {
      "text/html": [
       "<div>\n",
       "<style scoped>\n",
       "    .dataframe tbody tr th:only-of-type {\n",
       "        vertical-align: middle;\n",
       "    }\n",
       "\n",
       "    .dataframe tbody tr th {\n",
       "        vertical-align: top;\n",
       "    }\n",
       "\n",
       "    .dataframe thead th {\n",
       "        text-align: right;\n",
       "    }\n",
       "</style>\n",
       "<table border=\"1\" class=\"dataframe\">\n",
       "  <thead>\n",
       "    <tr style=\"text-align: right;\">\n",
       "      <th></th>\n",
       "      <th>month</th>\n",
       "      <th>day</th>\n",
       "      <th>Daily_Temp</th>\n",
       "      <th>Daily_Precip</th>\n",
       "      <th>Daily_Humidity</th>\n",
       "      <th>Daily_Pressure</th>\n",
       "      <th>Daily_WindDir</th>\n",
       "      <th>Daily_WindSpeed</th>\n",
       "      <th>Daily_DNI</th>\n",
       "      <th>Daily_GHI</th>\n",
       "    </tr>\n",
       "  </thead>\n",
       "  <tbody>\n",
       "    <tr>\n",
       "      <th>0</th>\n",
       "      <td>10</td>\n",
       "      <td>6</td>\n",
       "      <td>28.925000</td>\n",
       "      <td>11.433333</td>\n",
       "      <td>20.333333</td>\n",
       "      <td>933.858333</td>\n",
       "      <td>198.166667</td>\n",
       "      <td>1.741667</td>\n",
       "      <td>618.166667</td>\n",
       "      <td>461.333333</td>\n",
       "    </tr>\n",
       "    <tr>\n",
       "      <th>1</th>\n",
       "      <td>9</td>\n",
       "      <td>9</td>\n",
       "      <td>26.953846</td>\n",
       "      <td>48.092308</td>\n",
       "      <td>67.923077</td>\n",
       "      <td>930.961538</td>\n",
       "      <td>122.846154</td>\n",
       "      <td>1.892308</td>\n",
       "      <td>187.538462</td>\n",
       "      <td>311.307692</td>\n",
       "    </tr>\n",
       "    <tr>\n",
       "      <th>2</th>\n",
       "      <td>7</td>\n",
       "      <td>9</td>\n",
       "      <td>34.171429</td>\n",
       "      <td>41.128571</td>\n",
       "      <td>39.642857</td>\n",
       "      <td>924.971429</td>\n",
       "      <td>235.785714</td>\n",
       "      <td>2.550000</td>\n",
       "      <td>258.857143</td>\n",
       "      <td>465.642857</td>\n",
       "    </tr>\n",
       "    <tr>\n",
       "      <th>3</th>\n",
       "      <td>11</td>\n",
       "      <td>11</td>\n",
       "      <td>22.136364</td>\n",
       "      <td>8.136364</td>\n",
       "      <td>17.636364</td>\n",
       "      <td>942.281818</td>\n",
       "      <td>164.909091</td>\n",
       "      <td>1.754545</td>\n",
       "      <td>120.727273</td>\n",
       "      <td>250.636364</td>\n",
       "    </tr>\n",
       "    <tr>\n",
       "      <th>4</th>\n",
       "      <td>7</td>\n",
       "      <td>30</td>\n",
       "      <td>30.515385</td>\n",
       "      <td>46.907692</td>\n",
       "      <td>59.923077</td>\n",
       "      <td>928.553846</td>\n",
       "      <td>125.230769</td>\n",
       "      <td>3.776923</td>\n",
       "      <td>13.153846</td>\n",
       "      <td>206.769231</td>\n",
       "    </tr>\n",
       "    <tr>\n",
       "      <th>...</th>\n",
       "      <td>...</td>\n",
       "      <td>...</td>\n",
       "      <td>...</td>\n",
       "      <td>...</td>\n",
       "      <td>...</td>\n",
       "      <td>...</td>\n",
       "      <td>...</td>\n",
       "      <td>...</td>\n",
       "      <td>...</td>\n",
       "      <td>...</td>\n",
       "    </tr>\n",
       "    <tr>\n",
       "      <th>159</th>\n",
       "      <td>11</td>\n",
       "      <td>26</td>\n",
       "      <td>17.754545</td>\n",
       "      <td>12.427273</td>\n",
       "      <td>39.454545</td>\n",
       "      <td>941.972727</td>\n",
       "      <td>119.818182</td>\n",
       "      <td>2.318182</td>\n",
       "      <td>34.090909</td>\n",
       "      <td>213.545455</td>\n",
       "    </tr>\n",
       "    <tr>\n",
       "      <th>160</th>\n",
       "      <td>4</td>\n",
       "      <td>10</td>\n",
       "      <td>22.842857</td>\n",
       "      <td>19.485714</td>\n",
       "      <td>49.571429</td>\n",
       "      <td>938.478571</td>\n",
       "      <td>320.428571</td>\n",
       "      <td>2.550000</td>\n",
       "      <td>435.500000</td>\n",
       "      <td>461.857143</td>\n",
       "    </tr>\n",
       "    <tr>\n",
       "      <th>161</th>\n",
       "      <td>5</td>\n",
       "      <td>1</td>\n",
       "      <td>25.335714</td>\n",
       "      <td>15.192857</td>\n",
       "      <td>42.142857</td>\n",
       "      <td>911.407143</td>\n",
       "      <td>196.142857</td>\n",
       "      <td>1.650000</td>\n",
       "      <td>512.500000</td>\n",
       "      <td>510.785714</td>\n",
       "    </tr>\n",
       "    <tr>\n",
       "      <th>162</th>\n",
       "      <td>11</td>\n",
       "      <td>9</td>\n",
       "      <td>21.666667</td>\n",
       "      <td>9.066667</td>\n",
       "      <td>24.000000</td>\n",
       "      <td>938.950000</td>\n",
       "      <td>225.666667</td>\n",
       "      <td>1.891667</td>\n",
       "      <td>515.916667</td>\n",
       "      <td>337.583333</td>\n",
       "    </tr>\n",
       "    <tr>\n",
       "      <th>163</th>\n",
       "      <td>5</td>\n",
       "      <td>9</td>\n",
       "      <td>30.335714</td>\n",
       "      <td>26.678571</td>\n",
       "      <td>29.857143</td>\n",
       "      <td>932.114286</td>\n",
       "      <td>203.571429</td>\n",
       "      <td>2.714286</td>\n",
       "      <td>202.142857</td>\n",
       "      <td>375.071429</td>\n",
       "    </tr>\n",
       "  </tbody>\n",
       "</table>\n",
       "<p>164 rows × 10 columns</p>\n",
       "</div>"
      ],
      "text/plain": [
       "     month  day  Daily_Temp  Daily_Precip  Daily_Humidity  Daily_Pressure  \\\n",
       "0       10    6   28.925000     11.433333       20.333333      933.858333   \n",
       "1        9    9   26.953846     48.092308       67.923077      930.961538   \n",
       "2        7    9   34.171429     41.128571       39.642857      924.971429   \n",
       "3       11   11   22.136364      8.136364       17.636364      942.281818   \n",
       "4        7   30   30.515385     46.907692       59.923077      928.553846   \n",
       "..     ...  ...         ...           ...             ...             ...   \n",
       "159     11   26   17.754545     12.427273       39.454545      941.972727   \n",
       "160      4   10   22.842857     19.485714       49.571429      938.478571   \n",
       "161      5    1   25.335714     15.192857       42.142857      911.407143   \n",
       "162     11    9   21.666667      9.066667       24.000000      938.950000   \n",
       "163      5    9   30.335714     26.678571       29.857143      932.114286   \n",
       "\n",
       "     Daily_WindDir  Daily_WindSpeed   Daily_DNI   Daily_GHI  \n",
       "0       198.166667         1.741667  618.166667  461.333333  \n",
       "1       122.846154         1.892308  187.538462  311.307692  \n",
       "2       235.785714         2.550000  258.857143  465.642857  \n",
       "3       164.909091         1.754545  120.727273  250.636364  \n",
       "4       125.230769         3.776923   13.153846  206.769231  \n",
       "..             ...              ...         ...         ...  \n",
       "159     119.818182         2.318182   34.090909  213.545455  \n",
       "160     320.428571         2.550000  435.500000  461.857143  \n",
       "161     196.142857         1.650000  512.500000  510.785714  \n",
       "162     225.666667         1.891667  515.916667  337.583333  \n",
       "163     203.571429         2.714286  202.142857  375.071429  \n",
       "\n",
       "[164 rows x 10 columns]"
      ]
     },
     "execution_count": 15,
     "metadata": {},
     "output_type": "execute_result"
    }
   ],
   "source": [
    "# Same thing with test data\n",
    "test_df = pd.read_csv('../datasets/prepared/test.csv')\n",
    "X_test = test_df.drop(['Daily_radiation'], axis=1)\n",
    "y_test = test_df['Daily_radiation']\n",
    "\n",
    "# View test inputs\n",
    "X_test"
   ]
  },
  {
   "cell_type": "code",
   "execution_count": 16,
   "id": "095239b4",
   "metadata": {},
   "outputs": [
    {
     "data": {
      "text/plain": [
       "0       92.916667\n",
       "1      193.307692\n",
       "2      247.928571\n",
       "3      185.818182\n",
       "4      202.076923\n",
       "          ...    \n",
       "159    197.727273\n",
       "160    137.785714\n",
       "161    112.785714\n",
       "162     85.166667\n",
       "163    207.500000\n",
       "Name: Daily_radiation, Length: 164, dtype: float64"
      ]
     },
     "execution_count": 16,
     "metadata": {},
     "output_type": "execute_result"
    }
   ],
   "source": [
    "# View test outputs\n",
    "y_test"
   ]
  },
  {
   "cell_type": "markdown",
   "id": "336c24ce",
   "metadata": {},
   "source": [
    "## Linear Regression"
   ]
  },
  {
   "cell_type": "code",
   "execution_count": 17,
   "id": "934422ff",
   "metadata": {},
   "outputs": [],
   "source": [
    "# Setup the pipeline steps for linear regression\n",
    "steps = [('scaler', StandardScaler()), ('lr', LinearRegression())]\n",
    "# Create the pipeline\n",
    "pipeline_lr = Pipeline(steps)\n",
    "# Fit the pipeline to the train set\n",
    "pipeline_lr.fit(X_train, y_train)\n",
    "# Predict the labels of the test set\n",
    "y_pred_lr = pipeline_lr.predict(X_test)"
   ]
  },
  {
   "cell_type": "code",
   "execution_count": 18,
   "id": "a922af23",
   "metadata": {},
   "outputs": [
    {
     "name": "stdout",
     "output_type": "stream",
     "text": [
      "Root Mean Squared Error: 4.93\n",
      "Root Mean Absolute Error: 4.45\n",
      "R2 Score: 0.81\n"
     ]
    }
   ],
   "source": [
    "# Evaluate the algorithm performance\n",
    "rmse_lr = mean_squared_error(y_test, y_pred_lr, squared=False) # returns RMSE value instead of MSE\n",
    "mae_lr = mean_absolute_error(y_test, y_pred_lr)\n",
    "r2_lr = r2_score(y_test, y_pred_lr)\n",
    "\n",
    "print('Root Mean Squared Error: %.2f' % np.sqrt(rmse_lr))\n",
    "print('Root Mean Absolute Error: %.2f' % np.sqrt(mae_lr))\n",
    "print('R2 Score: %.2f' % r2_lr)"
   ]
  },
  {
   "cell_type": "code",
   "execution_count": 19,
   "id": "dfcc358b",
   "metadata": {},
   "outputs": [
    {
     "data": {
      "image/png": "[encoded data removed]",
      "text/plain": [
       "<Figure size 1152x864 with 1 Axes>"
      ]
     },
     "metadata": {},
     "output_type": "display_data"
    }
   ],
   "source": [
    "# Run the model against the test data presented through a plot\n",
    "fig, ax = plt.subplots()\n",
    "\n",
    "ax.scatter(y_test, y_pred_lr, edgecolors=(0,0,0))\n",
    "ax.plot([y_test.min(), y_test.max()], [y_test.min(), y_test.max()], 'm--', lw=3)\n",
    "ax.set_xlabel('Actual solar irradiation')\n",
    "ax.set_ylabel('Predicted solar irradiation')\n",
    "ax.set_title('Linear regression: Verified vs Predicted solar irradiation')\n",
    "plt.savefig('../plots/pred_irradiation_lr.jpg')\n",
    "plt.show()"
   ]
  },
  {
   "cell_type": "code",
   "execution_count": 20,
   "id": "1cda5335",
   "metadata": {},
   "outputs": [
    {
     "name": "stderr",
     "output_type": "stream",
     "text": [
      "d:\\repo\\solar_energy_islamabad\\venv\\lib\\site-packages\\seaborn\\_decorators.py:36: FutureWarning: Pass the following variables as keyword args: x, y. From version 0.12, the only valid positional argument will be `data`, and passing other arguments without an explicit keyword will result in an error or misinterpretation.\n",
      "  warnings.warn(\n"
     ]
    },
    {
     "data": {
      "image/png": "[encoded data removed]",
      "text/plain": [
       "<Figure size 432x432 with 3 Axes>"
      ]
     },
     "metadata": {},
     "output_type": "display_data"
    }
   ],
   "source": [
    "# Create jointplot of true and predicted values\n",
    "sns.jointplot(y_test, y_pred_lr, kind='reg')\n",
    "plt.savefig('../plots/jointplot_lr.jpg')\n",
    "plt.show()"
   ]
  },
  {
   "cell_type": "markdown",
   "id": "0d70b422",
   "metadata": {},
   "source": [
    "## Random Forest Regressor"
   ]
  },
  {
   "cell_type": "code",
   "execution_count": 21,
   "id": "673b0d4c",
   "metadata": {},
   "outputs": [],
   "source": [
    "# Setup the pipeline steps for random forest\n",
    "steps = [('scaler', StandardScaler()), ('rfr', RandomForestRegressor())]\n",
    "# Create the pipeline\n",
    "pipeline_rfr = Pipeline(steps)\n",
    "# Fit the pipeline to the train set\n",
    "pipeline_rfr.fit(X_train, y_train)\n",
    "# Predict the labels of the test set\n",
    "y_pred_rfr = pipeline_rfr.predict(X_test)"
   ]
  },
  {
   "cell_type": "code",
   "execution_count": 22,
   "id": "cda1d040",
   "metadata": {},
   "outputs": [
    {
     "name": "stdout",
     "output_type": "stream",
     "text": [
      "Root Mean Squared Error: 3.91\n",
      "Root Mean Absolute Error: 3.38\n",
      "R2 Score: 0.81\n"
     ]
    }
   ],
   "source": [
    "# Evaluate the algorithm performance\n",
    "rmse_rf = mean_squared_error(y_test, y_pred_rfr, squared=False)\n",
    "mae_rf = mean_absolute_error(y_test, y_pred_rfr)\n",
    "r2_rf = r2_score(y_test, y_pred_lr)\n",
    "\n",
    "print('Root Mean Squared Error: %.2f' % np.sqrt(rmse_rf))\n",
    "print('Root Mean Absolute Error: %.2f' % np.sqrt(mae_rf))\n",
    "print('R2 Score: %.2f' % r2_rf)"
   ]
  },
  {
   "cell_type": "code",
   "execution_count": 23,
   "id": "cbb14659",
   "metadata": {},
   "outputs": [
    {
     "data": {
      "image/png": "[encoded data removed]",
      "text/plain": [
       "<Figure size 1152x864 with 1 Axes>"
      ]
     },
     "metadata": {},
     "output_type": "display_data"
    }
   ],
   "source": [
    "# Run the model against the test data presented through the plot\n",
    "fig, ax = plt.subplots()\n",
    "\n",
    "ax.scatter(y_test, y_pred_rfr, edgecolors=(0,0,0))\n",
    "ax.plot([y_test.min(), y_test.max()], [y_test.min(), y_test.max()], 'm--', lw=3)\n",
    "ax.set_xlabel('Actual solar irradiation')\n",
    "ax.set_ylabel('Predicted solar irradiation')\n",
    "ax.set_title('Random Forest: Verified vs Predicted solar irradiation')\n",
    "plt.savefig('../plots/pred_irradiation_rfr.jpg')\n",
    "plt.show()"
   ]
  },
  {
   "cell_type": "code",
   "execution_count": 24,
   "id": "4a28ff9f",
   "metadata": {},
   "outputs": [
    {
     "name": "stderr",
     "output_type": "stream",
     "text": [
      "d:\\repo\\solar_energy_islamabad\\venv\\lib\\site-packages\\seaborn\\_decorators.py:36: FutureWarning: Pass the following variables as keyword args: x, y. From version 0.12, the only valid positional argument will be `data`, and passing other arguments without an explicit keyword will result in an error or misinterpretation.\n",
      "  warnings.warn(\n"
     ]
    },
    {
     "data": {
      "image/png": "[encoded data removed]",
      "text/plain": [
       "<Figure size 432x432 with 3 Axes>"
      ]
     },
     "metadata": {},
     "output_type": "display_data"
    }
   ],
   "source": [
    "# Visualize model performance on jointplot\n",
    "sns.jointplot(y_test, y_pred_rfr, kind='reg')\n",
    "plt.savefig('../plots/jointplot_rfr.jpg')\n",
    "plt.show()"
   ]
  },
  {
   "cell_type": "markdown",
   "id": "7c42910f",
   "metadata": {},
   "source": [
    "## GradientBoosting Regressor"
   ]
  },
  {
   "cell_type": "code",
   "execution_count": 25,
   "id": "be5f37a2",
   "metadata": {},
   "outputs": [],
   "source": [
    "# Setup the pipeline steps\n",
    "steps = [('scaler', StandardScaler()), ('gbr', GradientBoostingRegressor())]\n",
    "# Create the pipeline\n",
    "pipeline_gbr = Pipeline(steps)\n",
    "# Fit the pipeline to the train set\n",
    "pipeline_gbr.fit(X_train, y_train)\n",
    "# Predict the labels of the test set\n",
    "y_pred_gbr = pipeline_gbr.predict(X_test)"
   ]
  },
  {
   "cell_type": "code",
   "execution_count": 26,
   "id": "f979cbff",
   "metadata": {},
   "outputs": [
    {
     "name": "stdout",
     "output_type": "stream",
     "text": [
      "Root Mean Squared Error: 3.90\n",
      "Root Mean Absolute Error: 3.35\n",
      "R2 Score: 0.93\n"
     ]
    }
   ],
   "source": [
    "# Evaluate the algorithm performance\n",
    "rmse_gbr = mean_squared_error(y_test, y_pred_gbr, squared=False)\n",
    "mae_gbr = mean_absolute_error(y_test, y_pred_gbr)\n",
    "r2_gbr = r2_score(y_test, y_pred_gbr)\n",
    "\n",
    "print('Root Mean Squared Error: %.2f' % np.sqrt(rmse_gbr))\n",
    "print('Root Mean Absolute Error: %.2f' % np.sqrt(mae_gbr))\n",
    "print('R2 Score: %.2f' % r2_gbr)"
   ]
  },
  {
   "cell_type": "code",
   "execution_count": 27,
   "id": "12975d98",
   "metadata": {},
   "outputs": [
    {
     "data": {
      "image/png": "[encoded data removed]",
      "text/plain": [
       "<Figure size 1152x864 with 1 Axes>"
      ]
     },
     "metadata": {},
     "output_type": "display_data"
    }
   ],
   "source": [
    "# Run the model against the test data presented through a plot\n",
    "fig, ax = plt.subplots()\n",
    "\n",
    "ax.scatter(y_test, y_pred_gbr, edgecolors = (0, 0, 0))\n",
    "ax.plot([y_test.min(), y_test.max()], [y_test.min(), y_test.max()], 'm--', lw = 3)\n",
    "ax.set_xlabel('Actual solar irradiation')\n",
    "ax.set_ylabel('Predicted solar irradiation')\n",
    "ax.set_title(\" Gradient Boost: Verified vs Predicted solar irradiation\")\n",
    "plt.savefig('../plots/pred_irradiation_gbr.jpg')\n",
    "plt.show()"
   ]
  },
  {
   "cell_type": "code",
   "execution_count": 28,
   "id": "25d1c983",
   "metadata": {},
   "outputs": [
    {
     "name": "stderr",
     "output_type": "stream",
     "text": [
      "d:\\repo\\solar_energy_islamabad\\venv\\lib\\site-packages\\seaborn\\_decorators.py:36: FutureWarning: Pass the following variables as keyword args: x, y. From version 0.12, the only valid positional argument will be `data`, and passing other arguments without an explicit keyword will result in an error or misinterpretation.\n",
      "  warnings.warn(\n"
     ]
    },
    {
     "data": {
      "image/png": "[encoded data removed]",
      "text/plain": [
       "<Figure size 432x432 with 3 Axes>"
      ]
     },
     "metadata": {},
     "output_type": "display_data"
    }
   ],
   "source": [
    "# Visualize model performance on jointplot\n",
    "sns.jointplot(y_test, y_pred_gbr, kind='reg')\n",
    "plt.savefig('../plots/jointplot_gbr.jpg')\n",
    "plt.show()"
   ]
  },
  {
   "cell_type": "markdown",
   "id": "67d79dbd",
   "metadata": {},
   "source": [
    "## Model Validation"
   ]
  },
  {
   "cell_type": "code",
   "execution_count": 29,
   "id": "f15c048c",
   "metadata": {},
   "outputs": [
    {
     "data": {
      "text/html": [
       "<div>\n",
       "<style scoped>\n",
       "    .dataframe tbody tr th:only-of-type {\n",
       "        vertical-align: middle;\n",
       "    }\n",
       "\n",
       "    .dataframe tbody tr th {\n",
       "        vertical-align: top;\n",
       "    }\n",
       "\n",
       "    .dataframe thead th {\n",
       "        text-align: right;\n",
       "    }\n",
       "</style>\n",
       "<table border=\"1\" class=\"dataframe\">\n",
       "  <thead>\n",
       "    <tr style=\"text-align: right;\">\n",
       "      <th></th>\n",
       "      <th>month</th>\n",
       "      <th>day</th>\n",
       "      <th>Daily_Temp</th>\n",
       "      <th>Daily_Precip</th>\n",
       "      <th>Daily_Humidity</th>\n",
       "      <th>Daily_Pressure</th>\n",
       "      <th>Daily_WindDir</th>\n",
       "      <th>Daily_WindSpeed</th>\n",
       "      <th>Daily_DNI</th>\n",
       "      <th>Daily_GHI</th>\n",
       "    </tr>\n",
       "  </thead>\n",
       "  <tbody>\n",
       "    <tr>\n",
       "      <th>0</th>\n",
       "      <td>12</td>\n",
       "      <td>11</td>\n",
       "      <td>15.600000</td>\n",
       "      <td>4.440000</td>\n",
       "      <td>19.400000</td>\n",
       "      <td>942.110000</td>\n",
       "      <td>208.600000</td>\n",
       "      <td>1.260000</td>\n",
       "      <td>547.000000</td>\n",
       "      <td>333.100000</td>\n",
       "    </tr>\n",
       "    <tr>\n",
       "      <th>1</th>\n",
       "      <td>8</td>\n",
       "      <td>21</td>\n",
       "      <td>31.676923</td>\n",
       "      <td>36.484615</td>\n",
       "      <td>47.846154</td>\n",
       "      <td>931.807692</td>\n",
       "      <td>219.076923</td>\n",
       "      <td>1.946154</td>\n",
       "      <td>446.846154</td>\n",
       "      <td>505.769231</td>\n",
       "    </tr>\n",
       "    <tr>\n",
       "      <th>2</th>\n",
       "      <td>8</td>\n",
       "      <td>1</td>\n",
       "      <td>30.750000</td>\n",
       "      <td>48.328571</td>\n",
       "      <td>58.714286</td>\n",
       "      <td>927.921429</td>\n",
       "      <td>107.928571</td>\n",
       "      <td>2.678571</td>\n",
       "      <td>290.214286</td>\n",
       "      <td>418.357143</td>\n",
       "    </tr>\n",
       "    <tr>\n",
       "      <th>3</th>\n",
       "      <td>6</td>\n",
       "      <td>9</td>\n",
       "      <td>35.600000</td>\n",
       "      <td>15.946667</td>\n",
       "      <td>16.000000</td>\n",
       "      <td>927.166667</td>\n",
       "      <td>224.933333</td>\n",
       "      <td>3.800000</td>\n",
       "      <td>549.733333</td>\n",
       "      <td>537.066667</td>\n",
       "    </tr>\n",
       "    <tr>\n",
       "      <th>4</th>\n",
       "      <td>11</td>\n",
       "      <td>10</td>\n",
       "      <td>22.081818</td>\n",
       "      <td>8.463636</td>\n",
       "      <td>17.545455</td>\n",
       "      <td>940.472727</td>\n",
       "      <td>190.909091</td>\n",
       "      <td>1.727273</td>\n",
       "      <td>231.181818</td>\n",
       "      <td>295.363636</td>\n",
       "    </tr>\n",
       "    <tr>\n",
       "      <th>...</th>\n",
       "      <td>...</td>\n",
       "      <td>...</td>\n",
       "      <td>...</td>\n",
       "      <td>...</td>\n",
       "      <td>...</td>\n",
       "      <td>...</td>\n",
       "      <td>...</td>\n",
       "      <td>...</td>\n",
       "      <td>...</td>\n",
       "      <td>...</td>\n",
       "    </tr>\n",
       "    <tr>\n",
       "      <th>158</th>\n",
       "      <td>12</td>\n",
       "      <td>5</td>\n",
       "      <td>16.700000</td>\n",
       "      <td>5.700000</td>\n",
       "      <td>24.818182</td>\n",
       "      <td>944.390909</td>\n",
       "      <td>208.454545</td>\n",
       "      <td>1.463636</td>\n",
       "      <td>563.727273</td>\n",
       "      <td>318.181818</td>\n",
       "    </tr>\n",
       "    <tr>\n",
       "      <th>159</th>\n",
       "      <td>7</td>\n",
       "      <td>8</td>\n",
       "      <td>34.926667</td>\n",
       "      <td>33.826667</td>\n",
       "      <td>33.933333</td>\n",
       "      <td>928.166667</td>\n",
       "      <td>179.466667</td>\n",
       "      <td>2.673333</td>\n",
       "      <td>267.866667</td>\n",
       "      <td>423.800000</td>\n",
       "    </tr>\n",
       "    <tr>\n",
       "      <th>160</th>\n",
       "      <td>9</td>\n",
       "      <td>10</td>\n",
       "      <td>30.150000</td>\n",
       "      <td>29.521429</td>\n",
       "      <td>43.928571</td>\n",
       "      <td>928.864286</td>\n",
       "      <td>218.214286</td>\n",
       "      <td>1.671429</td>\n",
       "      <td>509.214286</td>\n",
       "      <td>452.000000</td>\n",
       "    </tr>\n",
       "    <tr>\n",
       "      <th>161</th>\n",
       "      <td>9</td>\n",
       "      <td>19</td>\n",
       "      <td>30.100000</td>\n",
       "      <td>37.050000</td>\n",
       "      <td>53.333333</td>\n",
       "      <td>933.516667</td>\n",
       "      <td>209.833333</td>\n",
       "      <td>1.758333</td>\n",
       "      <td>184.750000</td>\n",
       "      <td>381.000000</td>\n",
       "    </tr>\n",
       "    <tr>\n",
       "      <th>162</th>\n",
       "      <td>7</td>\n",
       "      <td>19</td>\n",
       "      <td>30.142857</td>\n",
       "      <td>60.664286</td>\n",
       "      <td>67.285714</td>\n",
       "      <td>922.642857</td>\n",
       "      <td>134.571429</td>\n",
       "      <td>4.850000</td>\n",
       "      <td>0.000000</td>\n",
       "      <td>66.642857</td>\n",
       "    </tr>\n",
       "  </tbody>\n",
       "</table>\n",
       "<p>163 rows × 10 columns</p>\n",
       "</div>"
      ],
      "text/plain": [
       "     month  day  Daily_Temp  Daily_Precip  Daily_Humidity  Daily_Pressure  \\\n",
       "0       12   11   15.600000      4.440000       19.400000      942.110000   \n",
       "1        8   21   31.676923     36.484615       47.846154      931.807692   \n",
       "2        8    1   30.750000     48.328571       58.714286      927.921429   \n",
       "3        6    9   35.600000     15.946667       16.000000      927.166667   \n",
       "4       11   10   22.081818      8.463636       17.545455      940.472727   \n",
       "..     ...  ...         ...           ...             ...             ...   \n",
       "158     12    5   16.700000      5.700000       24.818182      944.390909   \n",
       "159      7    8   34.926667     33.826667       33.933333      928.166667   \n",
       "160      9   10   30.150000     29.521429       43.928571      928.864286   \n",
       "161      9   19   30.100000     37.050000       53.333333      933.516667   \n",
       "162      7   19   30.142857     60.664286       67.285714      922.642857   \n",
       "\n",
       "     Daily_WindDir  Daily_WindSpeed   Daily_DNI   Daily_GHI  \n",
       "0       208.600000         1.260000  547.000000  333.100000  \n",
       "1       219.076923         1.946154  446.846154  505.769231  \n",
       "2       107.928571         2.678571  290.214286  418.357143  \n",
       "3       224.933333         3.800000  549.733333  537.066667  \n",
       "4       190.909091         1.727273  231.181818  295.363636  \n",
       "..             ...              ...         ...         ...  \n",
       "158     208.454545         1.463636  563.727273  318.181818  \n",
       "159     179.466667         2.673333  267.866667  423.800000  \n",
       "160     218.214286         1.671429  509.214286  452.000000  \n",
       "161     209.833333         1.758333  184.750000  381.000000  \n",
       "162     134.571429         4.850000    0.000000   66.642857  \n",
       "\n",
       "[163 rows x 10 columns]"
      ]
     },
     "execution_count": 29,
     "metadata": {},
     "output_type": "execute_result"
    }
   ],
   "source": [
    "# Import and split validation data into inputs and outputs\n",
    "val_df = pd.read_csv('../datasets/prepared/validation.csv')\n",
    "X_val = val_df.drop('Daily_radiation', axis=1)\n",
    "y_val = val_df['Daily_radiation']\n",
    "\n",
    "# Check validation inputs\n",
    "X_val"
   ]
  },
  {
   "cell_type": "code",
   "execution_count": 30,
   "id": "decd539d",
   "metadata": {},
   "outputs": [
    {
     "data": {
      "text/plain": [
       "0       95.400000\n",
       "1      174.153846\n",
       "2      198.285714\n",
       "3      127.866667\n",
       "4      168.454545\n",
       "          ...    \n",
       "158     73.636364\n",
       "159    209.866667\n",
       "160    107.857143\n",
       "161    262.416667\n",
       "162     66.642857\n",
       "Name: Daily_radiation, Length: 163, dtype: float64"
      ]
     },
     "execution_count": 30,
     "metadata": {},
     "output_type": "execute_result"
    }
   ],
   "source": [
    "# Validation outputs\n",
    "y_val"
   ]
  },
  {
   "cell_type": "code",
   "execution_count": 31,
   "id": "5153a598",
   "metadata": {},
   "outputs": [],
   "source": [
    "# Validate all three models\n",
    "y_val_lr = pipeline_lr.predict(X_val)\n",
    "y_val_rfr = pipeline_rfr.predict(X_val)\n",
    "y_val_gbr = pipeline_gbr.predict(X_val)"
   ]
  },
  {
   "cell_type": "code",
   "execution_count": 32,
   "id": "f7535bf1",
   "metadata": {},
   "outputs": [
    {
     "name": "stdout",
     "output_type": "stream",
     "text": [
      "Linear Regression - Root Mean Squared Error: 4.71\n",
      "Linear Regression - Root Mean Absolute Error: 4.15\n",
      "R2 Score: 0.81\n"
     ]
    }
   ],
   "source": [
    "# Evaluate linear regression performance\n",
    "rmse_lr_val = mean_squared_error(y_val, y_val_lr, squared=False)\n",
    "mae_lr_val = mean_absolute_error(y_val, y_val_lr)\n",
    "r2_lr_val = r2_score(y_val, y_val_lr)\n",
    "\n",
    "print('Linear Regression - Root Mean Squared Error: %.2f' % np.sqrt(rmse_lr_val))\n",
    "print('Linear Regression - Root Mean Absolute Error: %.2f' % np.sqrt(mae_lr_val))\n",
    "print('R2 Score: %.2f' % r2_lr_val)"
   ]
  },
  {
   "cell_type": "code",
   "execution_count": 33,
   "id": "2be35b20",
   "metadata": {},
   "outputs": [
    {
     "name": "stdout",
     "output_type": "stream",
     "text": [
      "Linear Regression - Root Mean Squared Error: 3.60\n",
      "Linear Regression - Root Mean Absolute Error: 3.11\n",
      "R2 Score: 0.94\n"
     ]
    }
   ],
   "source": [
    "# Evaluate random forest regression performance\n",
    "rmse_rfr_val = mean_squared_error(y_val, y_val_rfr, squared=False)\n",
    "mae_rfr_val = mean_absolute_error(y_val, y_val_rfr)\n",
    "r2_rfr_val = r2_score(y_val, y_val_rfr)\n",
    "\n",
    "print('Linear Regression - Root Mean Squared Error: %.2f' % np.sqrt(rmse_rfr_val))\n",
    "print('Linear Regression - Root Mean Absolute Error: %.2f' % np.sqrt(mae_rfr_val))\n",
    "print('R2 Score: %.2f' % r2_rfr_val)"
   ]
  },
  {
   "cell_type": "code",
   "execution_count": 34,
   "id": "116757d5",
   "metadata": {},
   "outputs": [
    {
     "name": "stdout",
     "output_type": "stream",
     "text": [
      "Linear Regression - Root Mean Squared Error: 3.72\n",
      "Linear Regression - Root Mean Absolute Error: 3.19\n",
      "R2 Score: 0.93\n"
     ]
    }
   ],
   "source": [
    "# Evaluate gradientboost regression performance\n",
    "rmse_gbr_val = mean_squared_error(y_val, y_val_gbr, squared=False)\n",
    "mae_gbr_val = mean_absolute_error(y_val, y_val_gbr)\n",
    "r2_gbr_val = r2_score(y_val, y_val_gbr)\n",
    "\n",
    "print('Linear Regression - Root Mean Squared Error: %.2f' % np.sqrt(rmse_gbr_val))\n",
    "print('Linear Regression - Root Mean Absolute Error: %.2f' % np.sqrt(mae_gbr_val))\n",
    "print('R2 Score: %.2f' % r2_gbr_val)"
   ]
  },
  {
   "cell_type": "markdown",
   "id": "63f975ac",
   "metadata": {},
   "source": [
    "## Compare validation results"
   ]
  },
  {
   "cell_type": "code",
   "execution_count": 35,
   "id": "dd414251",
   "metadata": {},
   "outputs": [
    {
     "data": {
      "text/html": [
       "<div>\n",
       "<style scoped>\n",
       "    .dataframe tbody tr th:only-of-type {\n",
       "        vertical-align: middle;\n",
       "    }\n",
       "\n",
       "    .dataframe tbody tr th {\n",
       "        vertical-align: top;\n",
       "    }\n",
       "\n",
       "    .dataframe thead th {\n",
       "        text-align: right;\n",
       "    }\n",
       "</style>\n",
       "<table border=\"1\" class=\"dataframe\">\n",
       "  <thead>\n",
       "    <tr style=\"text-align: right;\">\n",
       "      <th></th>\n",
       "      <th>model</th>\n",
       "      <th>rmse</th>\n",
       "      <th>rmae</th>\n",
       "      <th>r2</th>\n",
       "    </tr>\n",
       "  </thead>\n",
       "  <tbody>\n",
       "    <tr>\n",
       "      <th>0</th>\n",
       "      <td>Linear Regression</td>\n",
       "      <td>4.712537</td>\n",
       "      <td>4.145895</td>\n",
       "      <td>0.812862</td>\n",
       "    </tr>\n",
       "    <tr>\n",
       "      <th>1</th>\n",
       "      <td>Random Forest</td>\n",
       "      <td>3.604386</td>\n",
       "      <td>3.107478</td>\n",
       "      <td>0.935957</td>\n",
       "    </tr>\n",
       "    <tr>\n",
       "      <th>2</th>\n",
       "      <td>GradientBoost</td>\n",
       "      <td>3.716226</td>\n",
       "      <td>3.194893</td>\n",
       "      <td>0.927631</td>\n",
       "    </tr>\n",
       "  </tbody>\n",
       "</table>\n",
       "</div>"
      ],
      "text/plain": [
       "               model      rmse      rmae        r2\n",
       "0  Linear Regression  4.712537  4.145895  0.812862\n",
       "1      Random Forest  3.604386  3.107478  0.935957\n",
       "2      GradientBoost  3.716226  3.194893  0.927631"
      ]
     },
     "execution_count": 35,
     "metadata": {},
     "output_type": "execute_result"
    }
   ],
   "source": [
    "# Create a list of lists of model results\n",
    "model_results = [['Linear Regression', np.sqrt(rmse_lr_val), np.sqrt(mae_lr_val), r2_lr_val],\n",
    "                ['Random Forest', np.sqrt(rmse_rfr_val), np.sqrt(mae_rfr_val), r2_rfr_val],\n",
    "                ['GradientBoost', np.sqrt(rmse_gbr_val), np.sqrt(mae_gbr_val), r2_gbr_val]]\n",
    "\n",
    "# Convert all models results into Pandas DataFrame\n",
    "all_results = pd.DataFrame(model_results, columns=['model', 'rmse', 'rmae', 'r2'])\n",
    "all_results"
   ]
  },
  {
   "cell_type": "markdown",
   "id": "e1d2e140",
   "metadata": {},
   "source": [
    "Out of all three algorithms, `Random Forest` performs the best."
   ]
  },
  {
   "cell_type": "markdown",
   "id": "2b90a00e",
   "metadata": {},
   "source": [
    "# Models experiments tracking"
   ]
  },
  {
   "cell_type": "markdown",
   "id": "36dfd8ed",
   "metadata": {},
   "source": [
    "## Experiment tracking with neptune"
   ]
  },
  {
   "cell_type": "code",
   "execution_count": 36,
   "id": "ddad4baa",
   "metadata": {},
   "outputs": [
    {
     "name": "stdout",
     "output_type": "stream",
     "text": [
      "https://app.neptune.ai/awon08/solar-energy-islamabad/e/SOL-1\n"
     ]
    },
    {
     "name": "stderr",
     "output_type": "stream",
     "text": [
      "Info (NVML): Not Supported. GPU usage metrics may not be reported. For more information, see https://docs-legacy.neptune.ai/logging-and-managing-experiment-results/logging-experiment-data.html#hardware-consumption \n"
     ]
    },
    {
     "name": "stdout",
     "output_type": "stream",
     "text": [
      "Remember to stop your run once you’ve finished logging your metadata (https://docs.neptune.ai/api-reference/run#stop). It will be stopped automatically only when the notebook kernel/interactive console is terminated.\n"
     ]
    }
   ],
   "source": [
    "# Import neptune libraries and sklearn integration\n",
    "import neptune.new as naptune\n",
    "import neptune.new.integrations.sklearn as npt_utils\n",
    "\n",
    "import neptune.new as neptune\n",
    "\n",
    "run = neptune.init(\n",
    "    project=\"awon08/solar-energy-islamabad\",\n",
    "    api_token=\"eyJhcGlfYWRkcmVzcyI6Imh0dHBzOi8vYXBwLm5lcHR1bmUuYWkiLCJhcGlfdXJsIjoiaHR0cHM6Ly9hcHAubmVwdHVuZS5haSIsImFwaV9rZXkiOiI2NjgxZTJiMS0wMzUwLTRjMjMtODQ1YS1iYzY5M2IwYWZkOTkifQ==\",\n",
    "    name= 'solar-irradiation',\n",
    "    source_files= ['model_val_exp.ipynb']\n",
    ")"
   ]
  },
  {
   "cell_type": "code",
   "execution_count": 37,
   "id": "355168fa",
   "metadata": {},
   "outputs": [],
   "source": [
    "# Track files, models, and folders\n",
    "\n",
    "# Track all files from '../datasets/prepared/' folder\n",
    "run['cleaned_datasets'].track_files('../datasets/prepared/')\n",
    "# Track only 'solar_60m_data_isl.csv' file from '../datasets/raw/'\n",
    "run['raw_datasets'].track_files('../datasets/raw/solar_60m_data_isl.csv')\n",
    "\n",
    "# Track all files from the notebooks folder\n",
    "run['notebooks'].track_files('../notebooks/')"
   ]
  },
  {
   "cell_type": "code",
   "execution_count": 38,
   "id": "9a609583",
   "metadata": {},
   "outputs": [
    {
     "name": "stdout",
     "output_type": "stream",
     "text": [
      "Did not log feature importance chart. Error: could not find feature importances param on Pipeline\n"
     ]
    },
    {
     "name": "stderr",
     "output_type": "stream",
     "text": [
      "d:\\repo\\solar_energy_islamabad\\venv\\lib\\site-packages\\sklearn\\base.py:450: UserWarning: X does not have valid feature names, but StandardScaler was fitted with feature names\n",
      "  warnings.warn(\n",
      "d:\\repo\\solar_energy_islamabad\\venv\\lib\\site-packages\\sklearn\\base.py:450: UserWarning: X does not have valid feature names, but StandardScaler was fitted with feature names\n",
      "  warnings.warn(\n"
     ]
    },
    {
     "name": "stdout",
     "output_type": "stream",
     "text": [
      "Did not log feature importance chart. Error: could not find feature importances param on Pipeline\n"
     ]
    },
    {
     "name": "stderr",
     "output_type": "stream",
     "text": [
      "d:\\repo\\solar_energy_islamabad\\venv\\lib\\site-packages\\sklearn\\base.py:450: UserWarning: X does not have valid feature names, but StandardScaler was fitted with feature names\n",
      "  warnings.warn(\n",
      "d:\\repo\\solar_energy_islamabad\\venv\\lib\\site-packages\\sklearn\\base.py:450: UserWarning: X does not have valid feature names, but StandardScaler was fitted with feature names\n",
      "  warnings.warn(\n"
     ]
    },
    {
     "name": "stdout",
     "output_type": "stream",
     "text": [
      "Did not log feature importance chart. Error: could not find feature importances param on Pipeline\n"
     ]
    },
    {
     "name": "stderr",
     "output_type": "stream",
     "text": [
      "d:\\repo\\solar_energy_islamabad\\venv\\lib\\site-packages\\sklearn\\base.py:450: UserWarning: X does not have valid feature names, but StandardScaler was fitted with feature names\n",
      "  warnings.warn(\n",
      "d:\\repo\\solar_energy_islamabad\\venv\\lib\\site-packages\\sklearn\\base.py:450: UserWarning: X does not have valid feature names, but StandardScaler was fitted with feature names\n",
      "  warnings.warn(\n"
     ]
    },
    {
     "data": {
      "image/png": "[encoded data removed]",
      "text/plain": [
       "<Figure size 576x396 with 1 Axes>"
      ]
     },
     "metadata": {},
     "output_type": "display_data"
    },
    {
     "data": {
      "image/png": "[encoded data removed]",
      "text/plain": [
       "<Figure size 576x396 with 1 Axes>"
      ]
     },
     "metadata": {},
     "output_type": "display_data"
    },
    {
     "data": {
      "image/png": "[encoded data removed]",
      "text/plain": [
       "<Figure size 576x396 with 1 Axes>"
      ]
     },
     "metadata": {},
     "output_type": "display_data"
    }
   ],
   "source": [
    "# Track experiments while training and testing\n",
    "run['lr_summary'] = npt_utils.create_regressor_summary(pipeline_lr, X_train, X_test, y_train, y_test)\n",
    "run['rfr_summary'] = npt_utils.create_regressor_summary(pipeline_rfr, X_train, X_test, y_train, y_test)\n",
    "run['gbr_summary'] = npt_utils.create_regressor_summary(pipeline_gbr, X_train, X_test, y_train, y_test)"
   ]
  },
  {
   "cell_type": "code",
   "execution_count": 39,
   "id": "40e2d7bf",
   "metadata": {},
   "outputs": [
    {
     "name": "stdout",
     "output_type": "stream",
     "text": [
      "Shutting down background jobs, please wait a moment...\n",
      "Done!\n"
     ]
    },
    {
     "name": "stderr",
     "output_type": "stream",
     "text": [
      "Waiting for the remaining 51 operations to synchronize with Neptune. Do not kill this process.\n"
     ]
    },
    {
     "name": "stdout",
     "output_type": "stream",
     "text": [
      "All 51 operations synced, thanks for waiting!\n"
     ]
    }
   ],
   "source": [
    "# Stop experiment\n",
    "run.stop()"
   ]
  },
  {
   "cell_type": "markdown",
   "id": "3656927b",
   "metadata": {},
   "source": [
    "## Experiment tracking with mlflow"
   ]
  },
  {
   "cell_type": "code",
   "execution_count": 40,
   "id": "f1f8884f",
   "metadata": {},
   "outputs": [],
   "source": [
    "# Import libraries\n",
    "import mlflow\n",
    "import mlflow.sklearn"
   ]
  },
  {
   "cell_type": "code",
   "execution_count": 41,
   "id": "2a3d301f",
   "metadata": {},
   "outputs": [],
   "source": [
    "# Model metrics for linear regression\n",
    "rmse_lr_pred = np.sqrt(mean_squared_error(y_test, y_pred_lr, squared = False))\n",
    "rmae_lr_pred = np.sqrt(mean_absolute_error(y_test, y_pred_lr))\n",
    "R2_score_lr = r2_score(y_test, y_pred_lr)\n",
    "\n",
    "# Model metrics for random forest\n",
    "rmse_rfr_pred = np.sqrt(mean_squared_error(y_test, y_pred_rfr, squared = False))\n",
    "rmae_rfr_pred = np.sqrt(mean_absolute_error(y_test, y_pred_rfr))\n",
    "R2_score_rfr = r2_score(y_test, y_pred_rfr)\n",
    "\n",
    "# Model metrics for gradient boost\n",
    "rmse_gbr_pred = np.sqrt(mean_squared_error(y_test, y_pred_gbr, squared = False))\n",
    "rmae_gbr_pred = np.sqrt(mean_absolute_error(y_test, y_pred_gbr))\n",
    "R2_score_gbr = r2_score(y_test, y_pred_gbr)"
   ]
  },
  {
   "cell_type": "markdown",
   "id": "25cdebb3",
   "metadata": {},
   "source": [
    "### Manually log experiment"
   ]
  },
  {
   "cell_type": "code",
   "execution_count": 42,
   "id": "401a9602",
   "metadata": {},
   "outputs": [],
   "source": [
    "# Set the tracking uri\n",
    "mlflow.set_tracking_uri('http://127.0.0.1:5000/')\n",
    "experiment = mlflow.get_experiment('0')"
   ]
  },
  {
   "cell_type": "code",
   "execution_count": 43,
   "id": "461041dc",
   "metadata": {},
   "outputs": [
    {
     "name": "stdout",
     "output_type": "stream",
     "text": [
      "Name of experiment: Default\n",
      "Location of Artifact: ./artifacts/0\n",
      "Life cycle phase: active\n",
      "Experiment_ID: 0\n"
     ]
    }
   ],
   "source": [
    "print(f'Name of experiment: {experiment.name}')\n",
    "print(f'Location of Artifact: {experiment.artifact_location}')\n",
    "print(f'Life cycle phase: {experiment.lifecycle_stage}')\n",
    "print(f'Experiment_ID: {experiment.experiment_id}')"
   ]
  },
  {
   "cell_type": "code",
   "execution_count": 44,
   "id": "80961536",
   "metadata": {},
   "outputs": [],
   "source": [
    "# Start experiment tracking\n",
    "run = mlflow.start_run(run_name='solar_irradiation')\n",
    "run_id = run.info.run_id"
   ]
  },
  {
   "cell_type": "code",
   "execution_count": 45,
   "id": "f27775a8",
   "metadata": {},
   "outputs": [],
   "source": [
    "# Log mlflow attributes for mlflow UI\n",
    "# Log metrics for linear regression\n",
    "mlflow.log_metric('rmse_lr', rmse_lr_pred)\n",
    "mlflow.log_metric('rmae_lr', rmae_lr_pred)\n",
    "mlflow.log_metric('r2_score_lr', R2_score_lr)\n",
    "\n",
    "# Log metrics for random forest\n",
    "mlflow.log_metric('rmse_rfr', rmse_rfr_pred)\n",
    "mlflow.log_metric('rmae_rfr', rmae_rfr_pred)\n",
    "mlflow.log_metric('r2_score_rfr', R2_score_rfr)\n",
    "\n",
    "# Log metrics for gradientboost\n",
    "mlflow.log_metric('rmse_gbr', rmse_gbr_pred)\n",
    "mlflow.log_metric('rmae_gbr', rmae_gbr_pred)\n",
    "mlflow.log_metric('r2_score_gbr', R2_score_gbr)"
   ]
  },
  {
   "cell_type": "code",
   "execution_count": 46,
   "id": "d4afab99",
   "metadata": {},
   "outputs": [
    {
     "name": "stderr",
     "output_type": "stream",
     "text": [
      "Successfully registered model 'linear_regression'.\n",
      "2022/01/06 22:17:47 INFO mlflow.tracking._model_registry.client: Waiting up to 300 seconds for model version to finish creation.                     Model name: linear_regression, version 1\n",
      "Created version '1' of model 'linear_regression'.\n",
      "Successfully registered model 'random_forest'.\n",
      "2022/01/06 22:17:52 INFO mlflow.tracking._model_registry.client: Waiting up to 300 seconds for model version to finish creation.                     Model name: random_forest, version 1\n",
      "Created version '1' of model 'random_forest'.\n",
      "Successfully registered model 'gradientboost'.\n",
      "2022/01/06 22:17:56 INFO mlflow.tracking._model_registry.client: Waiting up to 300 seconds for model version to finish creation.                     Model name: gradientboost, version 1\n",
      "Created version '1' of model 'gradientboost'.\n"
     ]
    }
   ],
   "source": [
    "# Log models experiments\n",
    "artifact_path = 'Default' # name of the experiment in mlflow ui\n",
    "mlflow.sklearn.log_model(pipeline_lr, artifact_path=artifact_path, registered_model_name='linear_regression')\n",
    "mlflow.sklearn.log_model(pipeline_rfr, artifact_path=artifact_path, registered_model_name='random_forest')\n",
    "mlflow.sklearn.log_model(pipeline_gbr, artifact_path=artifact_path, registered_model_name='gradientboost')"
   ]
  },
  {
   "cell_type": "code",
   "execution_count": 48,
   "id": "ff9fa1a3",
   "metadata": {},
   "outputs": [],
   "source": [
    "# Log artifacts (output files)\n",
    "# Log prediction plots\n",
    "mlflow.log_artifact('../plots/pred_irradiation_lr.jpg', artifact_path='features')\n",
    "mlflow.log_artifact('../plots/pred_irradiation_rfr.jpg', artifact_path='features')\n",
    "mlflow.log_artifact('../plots/pred_irradiation_gbr.jpg', artifact_path='features')\n",
    "\n",
    "# Log jointplots\n",
    "mlflow.log_artifact('../plots/jointplot_lr.jpg', artifact_path='features')\n",
    "mlflow.log_artifact('../plots/jointplot_rfr.jpg', artifact_path='features')\n",
    "mlflow.log_artifact('../plots/jointplot_gbr.jpg', artifact_path='features')\n",
    "\n",
    "# Log features\n",
    "mlflow.log_artifact('../datasets/prepared/train.csv', artifact_path='features')"
   ]
  },
  {
   "cell_type": "code",
   "execution_count": 49,
   "id": "b6b0f3b5",
   "metadata": {},
   "outputs": [],
   "source": [
    "# End tracking\n",
    "mlflow.end_run()"
   ]
  },
  {
   "cell_type": "markdown",
   "id": "2bfd9ff3",
   "metadata": {},
   "source": [
    "### Auto log experiment"
   ]
  },
  {
   "cell_type": "code",
   "execution_count": 50,
   "id": "066eac64",
   "metadata": {},
   "outputs": [
    {
     "name": "stderr",
     "output_type": "stream",
     "text": [
      "2022/01/06 22:22:57 WARNING mlflow.utils.autologging_utils: You are using an unsupported version of sklearn. If you encounter errors during autologging, try upgrading / downgrading sklearn to a supported version, or try upgrading MLflow.\n"
     ]
    }
   ],
   "source": [
    "# Enable auto logging\n",
    "mlflow.sklearn.autolog(log_models=True)"
   ]
  },
  {
   "cell_type": "code",
   "execution_count": 51,
   "id": "cf69834c",
   "metadata": {},
   "outputs": [
    {
     "name": "stderr",
     "output_type": "stream",
     "text": [
      "2022/01/06 22:23:06 WARNING mlflow.utils.autologging_utils: MLflow autologging encountered a warning: \"d:\\repo\\solar_energy_islamabad\\venv\\lib\\site-packages\\mlflow\\models\\signature.py:129: UserWarning: Hint: Inferred schema contains integer column(s). Integer columns in Python cannot represent missing values. If your input data contains missing values at inference time, it will be encoded as floats and will cause a schema enforcement error. The best way to avoid this problem is to infer the model schema based on a realistic data sample (training dataset) that includes missing values. Alternatively, you can declare integer columns as doubles (float64) whenever these columns may have missing values. See `Handling Integers With Missing Values <https://www.mlflow.org/docs/latest/models.html#handling-integers-with-missing-values>`_ for more details.\"\n",
      "2022/01/06 22:23:12 WARNING mlflow.utils.autologging_utils: MLflow autologging encountered a warning: \"d:\\repo\\solar_energy_islamabad\\venv\\lib\\site-packages\\mlflow\\models\\signature.py:129: UserWarning: Hint: Inferred schema contains integer column(s). Integer columns in Python cannot represent missing values. If your input data contains missing values at inference time, it will be encoded as floats and will cause a schema enforcement error. The best way to avoid this problem is to infer the model schema based on a realistic data sample (training dataset) that includes missing values. Alternatively, you can declare integer columns as doubles (float64) whenever these columns may have missing values. See `Handling Integers With Missing Values <https://www.mlflow.org/docs/latest/models.html#handling-integers-with-missing-values>`_ for more details.\"\n",
      "2022/01/06 22:23:16 WARNING mlflow.utils.autologging_utils: Encountered unexpected error during sklearn autologging: The following failures occurred while performing one or more logging operations: [MlflowException('Failed to perform one or more operations on the run with ID 57233c4a2cee4e18a91c4a7baf9362de. Failed operations: [RestException(\"INVALID_PARAMETER_VALUE: Changing param values is not allowed. Param with key=\\'steps\\' was already logged with value=\\'[(\\'scaler\\', StandardScaler()), (\\'lr\\', LinearRegression())]\\' for run ID=\\'57233c4a2cee4e18a91c4a7baf9362de\\'. Attempted logging new value \\'[(\\'scaler\\', StandardScaler()), (\\'rfr\\', RandomForestRegressor())]\\'.\")]')]\n",
      "2022/01/06 22:23:17 WARNING mlflow.utils.autologging_utils: MLflow autologging encountered a warning: \"d:\\repo\\solar_energy_islamabad\\venv\\lib\\site-packages\\mlflow\\models\\signature.py:129: UserWarning: Hint: Inferred schema contains integer column(s). Integer columns in Python cannot represent missing values. If your input data contains missing values at inference time, it will be encoded as floats and will cause a schema enforcement error. The best way to avoid this problem is to infer the model schema based on a realistic data sample (training dataset) that includes missing values. Alternatively, you can declare integer columns as doubles (float64) whenever these columns may have missing values. See `Handling Integers With Missing Values <https://www.mlflow.org/docs/latest/models.html#handling-integers-with-missing-values>`_ for more details.\"\n",
      "2022/01/06 22:23:21 WARNING mlflow.utils.autologging_utils: Encountered unexpected error during sklearn autologging: The following failures occurred while performing one or more logging operations: [MlflowException('Failed to perform one or more operations on the run with ID 57233c4a2cee4e18a91c4a7baf9362de. Failed operations: [RestException(\"INVALID_PARAMETER_VALUE: Changing param values is not allowed. Param with key=\\'steps\\' was already logged with value=\\'[(\\'scaler\\', StandardScaler()), (\\'lr\\', LinearRegression())]\\' for run ID=\\'57233c4a2cee4e18a91c4a7baf9362de\\'. Attempted logging new value \\'[(\\'scaler\\', StandardScaler()), (\\'gbr\\', GradientBoostingRegressor())]\\'.\")]')]\n"
     ]
    }
   ],
   "source": [
    "with mlflow.start_run(experiment_id=experiment.experiment_id, run_name='auto_solar_irradiation') as run:\n",
    "    # Linear regression\n",
    "    pipeline_lr.fit(X_train, y_train)\n",
    "    y_pred_lr = pipeline_lr.predict(X_test)\n",
    "    \n",
    "    # Random forest\n",
    "    pipeline_rfr.fit(X_train, y_train)\n",
    "    y_pred_rfr = pipeline_rfr.predict(X_test)\n",
    "    \n",
    "    # GradientBoost\n",
    "    pipeline_gbr.fit(X_train, y_train)\n",
    "    y_pred_gbr = pipeline_gbr.predict(X_test)"
   ]
  },
  {
   "cell_type": "code",
   "execution_count": 52,
   "id": "7b94513a",
   "metadata": {},
   "outputs": [],
   "source": [
    "# End tracking\n",
    "mlflow.end_run()"
   ]
  },
  {
   "cell_type": "markdown",
   "id": "7bb8a417",
   "metadata": {},
   "source": [
    "## Export models"
   ]
  },
  {
   "cell_type": "code",
   "execution_count": 53,
   "id": "e22247be",
   "metadata": {},
   "outputs": [
    {
     "name": "stdout",
     "output_type": "stream",
     "text": [
      "1.0.2\n"
     ]
    }
   ],
   "source": [
    "# Check sklearn version\n",
    "from sklearn import __version__\n",
    "print(__version__)"
   ]
  },
  {
   "cell_type": "code",
   "execution_count": 54,
   "id": "7e890360",
   "metadata": {},
   "outputs": [
    {
     "name": "stdout",
     "output_type": "stream",
     "text": [
      "All models are saved into models directory!!\n"
     ]
    }
   ],
   "source": [
    "# Import library\n",
    "import joblib\n",
    "\n",
    "# Save models to file in the models directory\n",
    "# Save linear regression model\n",
    "joblib_lr = '../models/model_lr.pkl'\n",
    "joblib.dump(pipeline_lr, joblib_lr)\n",
    "\n",
    "# Save random forest model\n",
    "joblib_rfr = '../models/model_rfr.pkl'\n",
    "joblib.dump(pipeline_rfr, joblib_rfr)\n",
    "\n",
    "# Save gradientboost model\n",
    "joblib_gbr = '../models/model_gbr.pkl'\n",
    "joblib.dump(pipeline_gbr, joblib_gbr)\n",
    "\n",
    "print('All models are saved into models directory!!')"
   ]
  },
  {
   "cell_type": "markdown",
   "id": "be2eff18",
   "metadata": {},
   "source": [
    "## Recommended reading\n",
    "1. https://docs.neptune.ai/integrations-and-supported-tools/model-training/sklearn\n",
    "\n",
    "2. https://mlflow.org/docs/latest/tracking.html#scenario-1-mlflow-on-localhost\n",
    "\n",
    "3. https://docs.neptune.ai/getting-started/examples#data-versioning"
   ]
  }
 ],
 "metadata": {
  "kernelspec": {
   "display_name": "Python 3 (ipykernel)",
   "language": "python",
   "name": "python3"
  },
  "language_info": {
   "codemirror_mode": {
    "name": "ipython",
    "version": 3
   },
   "file_extension": ".py",
   "mimetype": "text/x-python",
   "name": "python",
   "nbconvert_exporter": "python",
   "pygments_lexer": "ipython3",
   "version": "3.9.5"
  }
 },
 "nbformat": 4,
 "nbformat_minor": 5
}
